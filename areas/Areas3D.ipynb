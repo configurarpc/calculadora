{
 "cells": [
  {
   "cell_type": "code",
   "execution_count": 12,
   "id": "c6542e24-98a3-4e1d-a203-3c8cb96343c5",
   "metadata": {},
   "outputs": [
    {
     "name": "stdout",
     "output_type": "stream",
     "text": [
      "\n",
      "--- Menú Áreas 3D ---\n",
      "1. Área superficial de un cubo\n",
      "2. Área superficial de una esfera\n",
      "3. Área superficial de un cilindro\n",
      "0. Volver al menú Áreas\n"
     ]
    },
    {
     "name": "stdin",
     "output_type": "stream",
     "text": [
      "Seleccione una opción:  0\n"
     ]
    }
   ],
   "source": [
    "#Prueba de areas3D.py\n",
    "from areas3D import Areas3D\n",
    "\n",
    "a3d = Areas3D()\n",
    "a3d.menu()\n"
   ]
  },
  {
   "cell_type": "code",
   "execution_count": null,
   "id": "c19ab9b4-5d88-48ae-a58a-ef8d99e7ea1d",
   "metadata": {},
   "outputs": [
    {
     "name": "stdout",
     "output_type": "stream",
     "text": [
      "\n",
      "--- Menú de Áreas ---\n",
      "1. Áreas 2D\n",
      "2. Áreas 3D\n",
      "3. Crea tu figura\n",
      "0. Volver al menú principal\n"
     ]
    },
    {
     "name": "stdin",
     "output_type": "stream",
     "text": [
      "Seleccione una opción:  2\n"
     ]
    },
    {
     "name": "stdout",
     "output_type": "stream",
     "text": [
      "\n",
      "--- Menú Áreas 3D ---\n",
      "1. Area cilindro\n",
      "2. Area cono\n",
      "3. Area cubo\n",
      "4. Area dodecaedro\n",
      "5. Area esfera\n",
      "6. Area icosaedro\n",
      "7. Area octaedro\n",
      "8. Area piramide cuadrada\n",
      "9. Area prisma hexagonal\n",
      "10. Area prisma rectangular\n",
      "11. Area prisma triangular\n",
      "12. Area tetraedro\n",
      "13. Area toro\n",
      "14. Area tronco cono\n",
      "0. Volver al menú principal\n"
     ]
    },
    {
     "name": "stdin",
     "output_type": "stream",
     "text": [
      "Seleccione una opción:  4\n",
      "Arista:  3\n"
     ]
    },
    {
     "name": "stdout",
     "output_type": "stream",
     "text": [
      "Resultado: El área superficial del area dodecaedro es 185.81\n",
      "\n",
      "--- Menú Áreas 3D ---\n",
      "1. Area cilindro\n",
      "2. Area cono\n",
      "3. Area cubo\n",
      "4. Area dodecaedro\n",
      "5. Area esfera\n",
      "6. Area icosaedro\n",
      "7. Area octaedro\n",
      "8. Area piramide cuadrada\n",
      "9. Area prisma hexagonal\n",
      "10. Area prisma rectangular\n",
      "11. Area prisma triangular\n",
      "12. Area tetraedro\n",
      "13. Area toro\n",
      "14. Area tronco cono\n",
      "0. Volver al menú principal\n"
     ]
    },
    {
     "name": "stdin",
     "output_type": "stream",
     "text": [
      "Seleccione una opción:  13\n",
      "Radio mayor (centro al círculo):  40\n",
      "Radio menor (círculo):  2\n"
     ]
    },
    {
     "name": "stdout",
     "output_type": "stream",
     "text": [
      "Resultado: El área superficial del area toro es 3158.27\n",
      "\n",
      "--- Menú Áreas 3D ---\n",
      "1. Area cilindro\n",
      "2. Area cono\n",
      "3. Area cubo\n",
      "4. Area dodecaedro\n",
      "5. Area esfera\n",
      "6. Area icosaedro\n",
      "7. Area octaedro\n",
      "8. Area piramide cuadrada\n",
      "9. Area prisma hexagonal\n",
      "10. Area prisma rectangular\n",
      "11. Area prisma triangular\n",
      "12. Area tetraedro\n",
      "13. Area toro\n",
      "14. Area tronco cono\n",
      "0. Volver al menú principal\n"
     ]
    },
    {
     "name": "stdin",
     "output_type": "stream",
     "text": [
      "Seleccione una opción:  6\n",
      "Arista:  1\n"
     ]
    },
    {
     "name": "stdout",
     "output_type": "stream",
     "text": [
      "Resultado: El área superficial del area icosaedro es 8.66\n",
      "\n",
      "--- Menú Áreas 3D ---\n",
      "1. Area cilindro\n",
      "2. Area cono\n",
      "3. Area cubo\n",
      "4. Area dodecaedro\n",
      "5. Area esfera\n",
      "6. Area icosaedro\n",
      "7. Area octaedro\n",
      "8. Area piramide cuadrada\n",
      "9. Area prisma hexagonal\n",
      "10. Area prisma rectangular\n",
      "11. Area prisma triangular\n",
      "12. Area tetraedro\n",
      "13. Area toro\n",
      "14. Area tronco cono\n",
      "0. Volver al menú principal\n"
     ]
    },
    {
     "name": "stdin",
     "output_type": "stream",
     "text": [
      "Seleccione una opción:  0\n"
     ]
    },
    {
     "name": "stdout",
     "output_type": "stream",
     "text": [
      "Volviendo al menú principal...\n",
      "\n",
      "--- Menú de Áreas ---\n",
      "1. Áreas 2D\n",
      "2. Áreas 3D\n",
      "3. Crea tu figura\n",
      "0. Volver al menú principal\n"
     ]
    },
    {
     "name": "stdin",
     "output_type": "stream",
     "text": [
      "Seleccione una opción:  1\n"
     ]
    },
    {
     "name": "stdout",
     "output_type": "stream",
     "text": [
      "\n",
      "--- Menú Áreas 2D ---\n",
      "1. Circulo\n",
      "2. Cuadrado\n",
      "3. Rectangulo\n",
      "4. Rombo\n",
      "5. Trapecio\n",
      "6. Triangulo\n",
      "0. Volver al menú principal\n"
     ]
    },
    {
     "name": "stdin",
     "output_type": "stream",
     "text": [
      "Seleccione una opción:  4\n",
      "Ingrese la diagonal mayor:  56\n",
      "Ingrese la diagonal menor:  23\n"
     ]
    },
    {
     "name": "stdout",
     "output_type": "stream",
     "text": [
      "Resultado: El área del rombo es 644.00\n",
      "\n",
      "--- Menú Áreas 2D ---\n",
      "1. Circulo\n",
      "2. Cuadrado\n",
      "3. Rectangulo\n",
      "4. Rombo\n",
      "5. Trapecio\n",
      "6. Triangulo\n",
      "0. Volver al menú principal\n"
     ]
    }
   ],
   "source": [
    "#Prueba de areas.py \n",
    "from areas import Areas\n",
    "areas = Areas()\n",
    "areas.mostrar_menu()\n"
   ]
  },
  {
   "cell_type": "code",
   "execution_count": null,
   "id": "f5efd8b3-916b-4af3-9794-a38ead622828",
   "metadata": {},
   "outputs": [],
   "source": []
  }
 ],
 "metadata": {
  "kernelspec": {
   "display_name": "Python 3 (ipykernel)",
   "language": "python",
   "name": "python3"
  },
  "language_info": {
   "codemirror_mode": {
    "name": "ipython",
    "version": 3
   },
   "file_extension": ".py",
   "mimetype": "text/x-python",
   "name": "python",
   "nbconvert_exporter": "python",
   "pygments_lexer": "ipython3",
   "version": "3.13.3"
  }
 },
 "nbformat": 4,
 "nbformat_minor": 5
}
